{
 "cells": [
  {
   "cell_type": "code",
   "execution_count": 1,
   "id": "32783de3-e6ba-423d-8b86-68cea363be4e",
   "metadata": {
    "execution": {
     "iopub.execute_input": "2023-11-07T03:06:23.278289Z",
     "iopub.status.busy": "2023-11-07T03:06:23.278151Z",
     "iopub.status.idle": "2023-11-07T03:06:24.026996Z",
     "shell.execute_reply": "2023-11-07T03:06:24.026287Z",
     "shell.execute_reply.started": "2023-11-07T03:06:23.278275Z"
    },
    "scrolled": true
   },
   "outputs": [
    {
     "name": "stdout",
     "output_type": "stream",
     "text": [
      "Looking in links: https://mlc.ai/wheels\n",
      "Requirement already satisfied: mlc-ai-nightly in /home/hyperion/miniconda3/envs/mlc/lib/python3.10/site-packages (0.12.dev1812)\n",
      "Requirement already satisfied: attrs in /home/hyperion/miniconda3/envs/mlc/lib/python3.10/site-packages (from mlc-ai-nightly) (23.1.0)\n",
      "Requirement already satisfied: cloudpickle in /home/hyperion/miniconda3/envs/mlc/lib/python3.10/site-packages (from mlc-ai-nightly) (3.0.0)\n",
      "Requirement already satisfied: decorator in /home/hyperion/miniconda3/envs/mlc/lib/python3.10/site-packages (from mlc-ai-nightly) (5.1.1)\n",
      "Requirement already satisfied: ml-dtypes in /home/hyperion/miniconda3/envs/mlc/lib/python3.10/site-packages (from mlc-ai-nightly) (0.3.1)\n",
      "Requirement already satisfied: numpy in /home/hyperion/miniconda3/envs/mlc/lib/python3.10/site-packages (from mlc-ai-nightly) (1.26.1)\n",
      "Requirement already satisfied: psutil in /home/hyperion/miniconda3/envs/mlc/lib/python3.10/site-packages (from mlc-ai-nightly) (5.9.0)\n",
      "Requirement already satisfied: scipy in /home/hyperion/miniconda3/envs/mlc/lib/python3.10/site-packages (from mlc-ai-nightly) (1.11.3)\n",
      "Requirement already satisfied: tornado in /home/hyperion/miniconda3/envs/mlc/lib/python3.10/site-packages (from mlc-ai-nightly) (6.3.3)\n",
      "Requirement already satisfied: typing-extensions in /home/hyperion/miniconda3/envs/mlc/lib/python3.10/site-packages (from mlc-ai-nightly) (4.8.0)\n"
     ]
    }
   ],
   "source": [
    "!python3 -m  pip install mlc-ai-nightly -f https://mlc.ai/wheels"
   ]
  },
  {
   "cell_type": "code",
   "execution_count": 2,
   "id": "f3036db8-0ba5-46d6-87f3-d0c983e20aeb",
   "metadata": {
    "execution": {
     "iopub.execute_input": "2023-11-07T03:06:24.028605Z",
     "iopub.status.busy": "2023-11-07T03:06:24.028344Z",
     "iopub.status.idle": "2023-11-07T03:06:24.414772Z",
     "shell.execute_reply": "2023-11-07T03:06:24.414201Z",
     "shell.execute_reply.started": "2023-11-07T03:06:24.028592Z"
    }
   },
   "outputs": [],
   "source": [
    "import numpy as np\n",
    "import tvm\n",
    "from tvm.ir.module import IRModule\n",
    "from tvm.script import tir as T"
   ]
  },
  {
   "cell_type": "code",
   "execution_count": 3,
   "id": "54c943d9-7b4d-4602-8c95-6a3e8ad0dc98",
   "metadata": {
    "execution": {
     "iopub.execute_input": "2023-11-07T03:06:24.417096Z",
     "iopub.status.busy": "2023-11-07T03:06:24.416975Z",
     "iopub.status.idle": "2023-11-07T03:06:24.425653Z",
     "shell.execute_reply": "2023-11-07T03:06:24.425057Z",
     "shell.execute_reply.started": "2023-11-07T03:06:24.417085Z"
    }
   },
   "outputs": [],
   "source": [
    "dtype = \"float32\"\n",
    "a_np = np.random.rand(128, 128).astype(dtype)\n",
    "b_np = np.random.rand(128, 128).astype(dtype)\n",
    "c_mm_relu = np.maximum(a_np @ b_np, 0)"
   ]
  },
  {
   "cell_type": "code",
   "execution_count": 4,
   "id": "5e5b7af1-cf74-48fa-8e3a-8b77a856b099",
   "metadata": {
    "execution": {
     "iopub.execute_input": "2023-11-07T03:06:24.427700Z",
     "iopub.status.busy": "2023-11-07T03:06:24.427136Z",
     "iopub.status.idle": "2023-11-07T03:06:24.463373Z",
     "shell.execute_reply": "2023-11-07T03:06:24.462762Z",
     "shell.execute_reply.started": "2023-11-07T03:06:24.427686Z"
    }
   },
   "outputs": [],
   "source": [
    "def lnumpy_mm_relu(A: np.ndarray, B: np.ndarray, C: np.ndarray):\n",
    "    Y = np.empty((128, 128), dtype=\"float32\")\n",
    "    for i in range(128):\n",
    "        for j in range(128):\n",
    "            for k in range(128):\n",
    "                if k == 0:\n",
    "                    Y[i, j] = 0\n",
    "                Y[i, j] = Y[i, j] + A[i, k] * B[k, j]\n",
    "    for i in range(128):\n",
    "        for j in range(128):\n",
    "            C[i, j] = max(Y[i, j], 0)"
   ]
  },
  {
   "cell_type": "code",
   "execution_count": 5,
   "id": "91bc1735-f5dd-4fb5-937c-b825cddcff63",
   "metadata": {
    "execution": {
     "iopub.execute_input": "2023-11-07T03:06:24.464361Z",
     "iopub.status.busy": "2023-11-07T03:06:24.464150Z",
     "iopub.status.idle": "2023-11-07T03:06:25.145937Z",
     "shell.execute_reply": "2023-11-07T03:06:25.145399Z",
     "shell.execute_reply.started": "2023-11-07T03:06:24.464343Z"
    }
   },
   "outputs": [],
   "source": [
    "c_np = np.empty((128, 128), dtype=dtype)\n",
    "lnumpy_mm_relu(a_np, b_np, c_np)\n",
    "np.testing.assert_allclose(c_mm_relu, c_np, rtol=1e-5)"
   ]
  },
  {
   "cell_type": "code",
   "execution_count": 6,
   "id": "4b3af228-e83b-4bca-870e-6c6dd90833cd",
   "metadata": {
    "execution": {
     "iopub.execute_input": "2023-11-07T03:06:25.147513Z",
     "iopub.status.busy": "2023-11-07T03:06:25.147213Z",
     "iopub.status.idle": "2023-11-07T03:06:25.200494Z",
     "shell.execute_reply": "2023-11-07T03:06:25.199916Z",
     "shell.execute_reply.started": "2023-11-07T03:06:25.147500Z"
    }
   },
   "outputs": [],
   "source": [
    "@tvm.script.ir_module\n",
    "class MyModule:\n",
    "    @T.prim_func\n",
    "    def mm_relu(\n",
    "        A: T.Buffer((128, 128), \"float32\"),\n",
    "        B: T.Buffer((128, 128), \"float32\"),\n",
    "        C: T.Buffer((128, 128), \"float32\"),\n",
    "    ):\n",
    "        T.func_attr({\"global_symbol\": \"mm_relu\", \"tir.noalias\": True})\n",
    "        Y = T.alloc_buffer((128, 128), dtype=\"float32\")\n",
    "        for i, j, k in T.grid(128, 128, 128):\n",
    "            with T.block(\"Y\"):\n",
    "                vi = T.axis.spatial(128, i)\n",
    "                vj = T.axis.spatial(128, j)\n",
    "                vk = T.axis.reduce(128, k)\n",
    "                with T.init():\n",
    "                    Y[vi, vj] = T.float32(0)\n",
    "                Y[vi, vj] = Y[vi, vj] + A[vi, vk] * B[vk, vj]\n",
    "        for i, j in T.grid(128, 128):\n",
    "            with T.block(\"C\"):\n",
    "                vi = T.axis.spatial(128, i)\n",
    "                vj = T.axis.spatial(128, j)\n",
    "                C[vi, vj] = T.max(Y[vi, vj], T.float32(0))"
   ]
  },
  {
   "cell_type": "code",
   "execution_count": 7,
   "id": "03c2612a-6b19-4a66-8737-5da15342e744",
   "metadata": {
    "execution": {
     "iopub.execute_input": "2023-11-07T03:15:50.129303Z",
     "iopub.status.busy": "2023-11-07T03:15:50.128750Z",
     "iopub.status.idle": "2023-11-07T03:15:50.153680Z",
     "shell.execute_reply": "2023-11-07T03:15:50.152414Z",
     "shell.execute_reply.started": "2023-11-07T03:15:50.129281Z"
    }
   },
   "outputs": [],
   "source": [
    "@tvm.script.ir_module\n",
    "class MyModuleWithAxisRemapSugar:\n",
    "    @T.prim_func\n",
    "    def mm_relu(\n",
    "        A: T.Buffer((128, 128), \"float32\"),\n",
    "        B: T.Buffer((128, 128), \"float32\"),\n",
    "        C: T.Buffer((128, 128), \"float32\"),\n",
    "    ):\n",
    "        T.func_attr({\"global_symbol\": \"mm_relu\", \"tir.noalias\": True})\n",
    "        Y = T.alloc_buffer((128, 128), dtype=\"float32\")\n",
    "        for i, j, k in T.grid(128, 128, 128):\n",
    "            with T.block(\"Y\"):\n",
    "                vi, vj, vk = T.axis.remap(\"SSR\", [i, j, k])\n",
    "                with T.init():\n",
    "                    Y[vi, vj] = T.float32(0)\n",
    "                Y[vi, vj] = Y[vi, vj] + A[vi, vk] * B[vk, vj]\n",
    "        for i, j in T.grid(128, 128):\n",
    "            with T.block(\"C\"):\n",
    "                vi, vj = T.axis.remap(\"SS\", [i, j])\n",
    "                C[vi, vj] = T.max(Y[vi, vj], T.float32(0))"
   ]
  },
  {
   "cell_type": "code",
   "execution_count": 8,
   "id": "eb876be9-2fb8-4b11-b736-d32a22bb5aab",
   "metadata": {
    "execution": {
     "iopub.execute_input": "2023-11-07T03:37:50.880674Z",
     "iopub.status.busy": "2023-11-07T03:37:50.879107Z",
     "iopub.status.idle": "2023-11-07T03:37:50.920509Z",
     "shell.execute_reply": "2023-11-07T03:37:50.919806Z",
     "shell.execute_reply.started": "2023-11-07T03:37:50.880638Z"
    }
   },
   "outputs": [],
   "source": [
    "@tvm.script.ir_module\n",
    "class MyModuleWithTwoFunctions:\n",
    "    @T.prim_func\n",
    "    def mm(\n",
    "        A: T.Buffer((128, 128), \"float32\"),\n",
    "        B: T.Buffer((128, 128), \"float32\"),\n",
    "        Y: T.Buffer((128, 128), \"float32\"),\n",
    "    ):\n",
    "        T.func_attr({\"global_symbol\": \"mm\", \"tir.noalias\": True})\n",
    "        for i, j, k in T.grid(128, 128, 128):\n",
    "            with T.block(\"Y\"):\n",
    "                vi, vj, vk = T.axis.remap(\"SSR\", [i, j, k])\n",
    "                with T.init():\n",
    "                    Y[vi, vj] = T.float32(0)\n",
    "                Y[vi, vj] = Y[vi, vj] + A[vi, vk] * B[vk, vj]\n",
    "\n",
    "    @T.prim_func\n",
    "    def relu(\n",
    "        A: T.Buffer((128, 128), \"float32\"),\n",
    "        B: T.Buffer((128, 128), \"float32\"),\n",
    "    ):\n",
    "        for i, j in T.grid(128, 128):\n",
    "            with T.block(\"C\"):\n",
    "                vi, vj = T.axis.remap(\"SS\", [i, j])\n",
    "                B[vi, vj] = T.max(A[vi, vj], T.float32(0))"
   ]
  },
  {
   "cell_type": "code",
   "execution_count": 10,
   "id": "b4af8a13-95b8-4c8e-86c8-da0c329b3a86",
   "metadata": {
    "execution": {
     "iopub.execute_input": "2023-11-07T03:40:39.214410Z",
     "iopub.status.busy": "2023-11-07T03:40:39.214085Z",
     "iopub.status.idle": "2023-11-07T03:40:39.219619Z",
     "shell.execute_reply": "2023-11-07T03:40:39.219100Z",
     "shell.execute_reply.started": "2023-11-07T03:40:39.214397Z"
    }
   },
   "outputs": [],
   "source": [
    "# schedule for transformations\n",
    "sch = tvm.tir.Schedule(MyModuleWithAxisRemapSugar)"
   ]
  },
  {
   "cell_type": "code",
   "execution_count": 12,
   "id": "13b8fbe7-c65e-45d7-b56b-0f0f6ea26932",
   "metadata": {
    "execution": {
     "iopub.execute_input": "2023-11-07T03:41:09.514229Z",
     "iopub.status.busy": "2023-11-07T03:41:09.513712Z",
     "iopub.status.idle": "2023-11-07T03:41:09.517398Z",
     "shell.execute_reply": "2023-11-07T03:41:09.516757Z",
     "shell.execute_reply.started": "2023-11-07T03:41:09.514215Z"
    }
   },
   "outputs": [],
   "source": [
    "block_Y = sch.get_block(\"Y\", func_name=\"mm_relu\")\n",
    "i, j, k = sch.get_loops(block_Y)"
   ]
  },
  {
   "cell_type": "code",
   "execution_count": 14,
   "id": "4c2e7d64-6ed3-4399-bd51-13cd5392469e",
   "metadata": {
    "execution": {
     "iopub.execute_input": "2023-11-07T03:42:05.386676Z",
     "iopub.status.busy": "2023-11-07T03:42:05.386249Z",
     "iopub.status.idle": "2023-11-07T03:42:05.390867Z",
     "shell.execute_reply": "2023-11-07T03:42:05.390354Z",
     "shell.execute_reply.started": "2023-11-07T03:42:05.386662Z"
    }
   },
   "outputs": [],
   "source": [
    "j0, j1 = sch.split(j, factors=[None, 4])"
   ]
  },
  {
   "cell_type": "code",
   "execution_count": 16,
   "id": "90f29a72-731f-4303-8eae-dfb7270e8864",
   "metadata": {
    "execution": {
     "iopub.execute_input": "2023-11-07T03:42:17.433863Z",
     "iopub.status.busy": "2023-11-07T03:42:17.433281Z",
     "iopub.status.idle": "2023-11-07T03:42:17.437583Z",
     "shell.execute_reply": "2023-11-07T03:42:17.437050Z",
     "shell.execute_reply.started": "2023-11-07T03:42:17.433849Z"
    }
   },
   "outputs": [
    {
     "name": "stdout",
     "output_type": "stream",
     "text": [
      "# from tvm.script import ir as I\n",
      "# from tvm.script import tir as T\n",
      "\n",
      "@I.ir_module\n",
      "class Module:\n",
      "    @T.prim_func\n",
      "    def mm_relu(A: T.Buffer((128, 128), \"float32\"), B: T.Buffer((128, 128), \"float32\"), C: T.Buffer((128, 128), \"float32\")):\n",
      "        T.func_attr({\"tir.noalias\": T.bool(True)})\n",
      "        # with T.block(\"root\"):\n",
      "        Y = T.alloc_buffer((128, 128))\n",
      "        for i, j_0, j_1, k in T.grid(128, 32, 4, 128):\n",
      "            with T.block(\"Y\"):\n",
      "                vi = T.axis.spatial(128, i)\n",
      "                vj = T.axis.spatial(128, j_0 * 4 + j_1)\n",
      "                vk = T.axis.reduce(128, k)\n",
      "                T.reads(A[vi, vk], B[vk, vj])\n",
      "                T.writes(Y[vi, vj])\n",
      "                with T.init():\n",
      "                    Y[vi, vj] = T.float32(0)\n",
      "                Y[vi, vj] = Y[vi, vj] + A[vi, vk] * B[vk, vj]\n",
      "        for i, j in T.grid(128, 128):\n",
      "            with T.block(\"C\"):\n",
      "                vi, vj = T.axis.remap(\"SS\", [i, j])\n",
      "                T.reads(Y[vi, vj])\n",
      "                T.writes(C[vi, vj])\n",
      "                C[vi, vj] = T.max(Y[vi, vj], T.float32(0))\n"
     ]
    }
   ],
   "source": [
    "print(sch.mod.script())"
   ]
  },
  {
   "cell_type": "code",
   "execution_count": 17,
   "id": "c1b9dbc0-2905-4fb8-a4ee-e13cb2fc3b7f",
   "metadata": {
    "execution": {
     "iopub.execute_input": "2023-11-07T03:47:25.631879Z",
     "iopub.status.busy": "2023-11-07T03:47:25.631136Z",
     "iopub.status.idle": "2023-11-07T03:47:25.637840Z",
     "shell.execute_reply": "2023-11-07T03:47:25.637214Z",
     "shell.execute_reply.started": "2023-11-07T03:47:25.631864Z"
    }
   },
   "outputs": [
    {
     "name": "stdout",
     "output_type": "stream",
     "text": [
      "# from tvm.script import ir as I\n",
      "# from tvm.script import tir as T\n",
      "\n",
      "@I.ir_module\n",
      "class Module:\n",
      "    @T.prim_func\n",
      "    def mm_relu(A: T.Buffer((128, 128), \"float32\"), B: T.Buffer((128, 128), \"float32\"), C: T.Buffer((128, 128), \"float32\")):\n",
      "        T.func_attr({\"tir.noalias\": T.bool(True)})\n",
      "        # with T.block(\"root\"):\n",
      "        Y = T.alloc_buffer((128, 128))\n",
      "        for i, j_0, k, j_1 in T.grid(128, 32, 128, 4):\n",
      "            with T.block(\"Y\"):\n",
      "                vi = T.axis.spatial(128, i)\n",
      "                vj = T.axis.spatial(128, j_0 * 4 + j_1)\n",
      "                vk = T.axis.reduce(128, k)\n",
      "                T.reads(A[vi, vk], B[vk, vj])\n",
      "                T.writes(Y[vi, vj])\n",
      "                with T.init():\n",
      "                    Y[vi, vj] = T.float32(0)\n",
      "                Y[vi, vj] = Y[vi, vj] + A[vi, vk] * B[vk, vj]\n",
      "        for i, j in T.grid(128, 128):\n",
      "            with T.block(\"C\"):\n",
      "                vi, vj = T.axis.remap(\"SS\", [i, j])\n",
      "                T.reads(Y[vi, vj])\n",
      "                T.writes(C[vi, vj])\n",
      "                C[vi, vj] = T.max(Y[vi, vj], T.float32(0))\n"
     ]
    }
   ],
   "source": [
    "sch.reorder(j0, k, j1)\n",
    "print(sch.mod.script())"
   ]
  },
  {
   "cell_type": "code",
   "execution_count": 18,
   "id": "e02cfeca-892b-41ea-8cbc-fb10e17d92b6",
   "metadata": {
    "execution": {
     "iopub.execute_input": "2023-11-07T03:53:09.147791Z",
     "iopub.status.busy": "2023-11-07T03:53:09.147424Z",
     "iopub.status.idle": "2023-11-07T03:53:09.156292Z",
     "shell.execute_reply": "2023-11-07T03:53:09.155675Z",
     "shell.execute_reply.started": "2023-11-07T03:53:09.147777Z"
    }
   },
   "outputs": [
    {
     "name": "stdout",
     "output_type": "stream",
     "text": [
      "# from tvm.script import ir as I\n",
      "# from tvm.script import tir as T\n",
      "\n",
      "@I.ir_module\n",
      "class Module:\n",
      "    @T.prim_func\n",
      "    def mm_relu(A: T.Buffer((128, 128), \"float32\"), B: T.Buffer((128, 128), \"float32\"), C: T.Buffer((128, 128), \"float32\")):\n",
      "        T.func_attr({\"tir.noalias\": T.bool(True)})\n",
      "        # with T.block(\"root\"):\n",
      "        Y = T.alloc_buffer((128, 128))\n",
      "        for i, j_0 in T.grid(128, 32):\n",
      "            for j_1_init in range(4):\n",
      "                with T.block(\"Y_init\"):\n",
      "                    vi = T.axis.spatial(128, i)\n",
      "                    vj = T.axis.spatial(128, j_0 * 4 + j_1_init)\n",
      "                    T.reads()\n",
      "                    T.writes(Y[vi, vj])\n",
      "                    Y[vi, vj] = T.float32(0)\n",
      "            for k, j_1 in T.grid(128, 4):\n",
      "                with T.block(\"Y_update\"):\n",
      "                    vi = T.axis.spatial(128, i)\n",
      "                    vj = T.axis.spatial(128, j_0 * 4 + j_1)\n",
      "                    vk = T.axis.reduce(128, k)\n",
      "                    T.reads(Y[vi, vj], A[vi, vk], B[vk, vj])\n",
      "                    T.writes(Y[vi, vj])\n",
      "                    Y[vi, vj] = Y[vi, vj] + A[vi, vk] * B[vk, vj]\n",
      "            for ax0 in range(4):\n",
      "                with T.block(\"C\"):\n",
      "                    vi = T.axis.spatial(128, i)\n",
      "                    vj = T.axis.spatial(128, j_0 * 4 + ax0)\n",
      "                    T.reads(Y[vi, vj])\n",
      "                    T.writes(C[vi, vj])\n",
      "                    C[vi, vj] = T.max(Y[vi, vj], T.float32(0))\n"
     ]
    }
   ],
   "source": [
    "block_C = sch.get_block(\"C\", \"mm_relu\")\n",
    "sch.reverse_compute_at(block_C, j0)\n",
    "sch.decompose_reduction(block_Y, k)\n",
    "print(sch.mod.script())"
   ]
  },
  {
   "cell_type": "markdown",
   "id": "7daf4eb7-f73e-4629-9767-c468a0105213",
   "metadata": {},
   "source": [
    "### build and run"
   ]
  },
  {
   "cell_type": "code",
   "execution_count": 19,
   "id": "5c835a7e-c433-4ce3-a47b-2cd7abcf238e",
   "metadata": {
    "execution": {
     "iopub.execute_input": "2023-11-07T03:55:00.092207Z",
     "iopub.status.busy": "2023-11-07T03:55:00.091644Z",
     "iopub.status.idle": "2023-11-07T03:55:00.188058Z",
     "shell.execute_reply": "2023-11-07T03:55:00.187521Z",
     "shell.execute_reply.started": "2023-11-07T03:55:00.092189Z"
    }
   },
   "outputs": [],
   "source": [
    "rt_lib = tvm.build(MyModule, target=\"llvm\")"
   ]
  },
  {
   "cell_type": "code",
   "execution_count": 20,
   "id": "2fe06520-beb6-4529-acdb-743f73ac9867",
   "metadata": {
    "execution": {
     "iopub.execute_input": "2023-11-07T03:58:50.232796Z",
     "iopub.status.busy": "2023-11-07T03:58:50.232279Z",
     "iopub.status.idle": "2023-11-07T03:58:50.237742Z",
     "shell.execute_reply": "2023-11-07T03:58:50.237238Z",
     "shell.execute_reply.started": "2023-11-07T03:58:50.232781Z"
    }
   },
   "outputs": [
    {
     "data": {
      "text/plain": [
       "tvm.runtime.ndarray.NDArray"
      ]
     },
     "execution_count": 20,
     "metadata": {},
     "output_type": "execute_result"
    }
   ],
   "source": [
    "a_nd = tvm.nd.array(a_np)\n",
    "b_nd = tvm.nd.array(b_np)\n",
    "c_nd = tvm.nd.empty((128, 128), dtype=\"float32\")\n",
    "type(c_nd)"
   ]
  },
  {
   "cell_type": "code",
   "execution_count": 21,
   "id": "734748eb-a843-4d4c-9756-31a64cba1c8c",
   "metadata": {
    "execution": {
     "iopub.execute_input": "2023-11-07T04:00:17.928869Z",
     "iopub.status.busy": "2023-11-07T04:00:17.928530Z",
     "iopub.status.idle": "2023-11-07T04:00:17.981259Z",
     "shell.execute_reply": "2023-11-07T04:00:17.980627Z",
     "shell.execute_reply.started": "2023-11-07T04:00:17.928856Z"
    }
   },
   "outputs": [],
   "source": [
    "func_mm_relu = rt_lib[\"mm_relu\"]\n",
    "func_mm_relu(a_nd, b_nd, c_nd)\n",
    "\n",
    "np.testing.assert_allclose(c_mm_relu, c_nd.numpy(), rtol=1e-5)"
   ]
  },
  {
   "cell_type": "code",
   "execution_count": 22,
   "id": "5630a979-bea1-46be-90c0-ac939a1c2e52",
   "metadata": {
    "execution": {
     "iopub.execute_input": "2023-11-07T04:00:38.852313Z",
     "iopub.status.busy": "2023-11-07T04:00:38.851890Z",
     "iopub.status.idle": "2023-11-07T04:00:38.893980Z",
     "shell.execute_reply": "2023-11-07T04:00:38.893300Z",
     "shell.execute_reply.started": "2023-11-07T04:00:38.852299Z"
    }
   },
   "outputs": [],
   "source": [
    "rt_lib_after = tvm.build(sch.mod, target=\"llvm\")\n",
    "rt_lib_after[\"mm_relu\"](a_nd, b_nd, c_nd)\n",
    "np.testing.assert_allclose(c_mm_relu, c_nd.numpy(), rtol=1e-5)"
   ]
  },
  {
   "cell_type": "code",
   "execution_count": 23,
   "id": "5ad7ad31-e10a-41bb-9612-0495f240a7b6",
   "metadata": {
    "execution": {
     "iopub.execute_input": "2023-11-07T04:00:42.701528Z",
     "iopub.status.busy": "2023-11-07T04:00:42.701179Z",
     "iopub.status.idle": "2023-11-07T04:00:42.738263Z",
     "shell.execute_reply": "2023-11-07T04:00:42.737680Z",
     "shell.execute_reply.started": "2023-11-07T04:00:42.701512Z"
    }
   },
   "outputs": [
    {
     "name": "stdout",
     "output_type": "stream",
     "text": [
      "Time cost of MyModule 0.00228609 sec\n",
      "Time cost of transformed sch.mod 0.000526028 sec\n"
     ]
    }
   ],
   "source": [
    "f_timer_before = rt_lib.time_evaluator(\"mm_relu\", tvm.cpu())\n",
    "print(\"Time cost of MyModule %g sec\" % f_timer_before(a_nd, b_nd, c_nd).mean)\n",
    "f_timer_after = rt_lib_after.time_evaluator(\"mm_relu\", tvm.cpu())\n",
    "print(\"Time cost of transformed sch.mod %g sec\" % f_timer_after(a_nd, b_nd, c_nd).mean)"
   ]
  },
  {
   "cell_type": "code",
   "execution_count": null,
   "id": "4ea244dd-8ca0-482b-ac22-65ca52b5d931",
   "metadata": {},
   "outputs": [],
   "source": []
  }
 ],
 "metadata": {
  "kernelspec": {
   "display_name": "Python 3 (ipykernel)",
   "language": "python",
   "name": "python3"
  },
  "language_info": {
   "codemirror_mode": {
    "name": "ipython",
    "version": 3
   },
   "file_extension": ".py",
   "mimetype": "text/x-python",
   "name": "python",
   "nbconvert_exporter": "python",
   "pygments_lexer": "ipython3",
   "version": "3.10.13"
  }
 },
 "nbformat": 4,
 "nbformat_minor": 5
}
