{
 "cells": [
  {
   "cell_type": "code",
   "execution_count": 1,
   "id": "679ff43e-7168-4628-a8ac-b6731471475e",
   "metadata": {
    "execution": {
     "iopub.execute_input": "2023-11-07T05:59:12.310896Z",
     "iopub.status.busy": "2023-11-07T05:59:12.310772Z",
     "iopub.status.idle": "2023-11-07T05:59:12.664989Z",
     "shell.execute_reply": "2023-11-07T05:59:12.664431Z",
     "shell.execute_reply.started": "2023-11-07T05:59:12.310881Z"
    }
   },
   "outputs": [],
   "source": [
    "import IPython\n",
    "import numpy as np\n",
    "import tvm\n",
    "from tvm.ir.module import IRModule\n",
    "from tvm.script import tir as T"
   ]
  },
  {
   "cell_type": "markdown",
   "id": "166493d2-f4b5-4d61-8e02-f8defe2fda0a",
   "metadata": {},
   "source": [
    "## section 1: how to write `TensorIR`"
   ]
  },
  {
   "cell_type": "markdown",
   "id": "f7cefd14-bcf3-4a60-bcb9-377f6c28a859",
   "metadata": {},
   "source": [
    "### exercise 1: broadcast add"
   ]
  },
  {
   "cell_type": "code",
   "execution_count": 2,
   "id": "525550c1-9729-4720-a71d-0c16fb1575af",
   "metadata": {
    "execution": {
     "iopub.execute_input": "2023-11-07T05:59:12.666438Z",
     "iopub.status.busy": "2023-11-07T05:59:12.666101Z",
     "iopub.status.idle": "2023-11-07T05:59:12.669111Z",
     "shell.execute_reply": "2023-11-07T05:59:12.668621Z",
     "shell.execute_reply.started": "2023-11-07T05:59:12.666426Z"
    }
   },
   "outputs": [],
   "source": [
    "a = np.arange(16).reshape(4, 4)\n",
    "b = np.arange(4, 0, -1).reshape(4)"
   ]
  },
  {
   "cell_type": "code",
   "execution_count": 3,
   "id": "df9b2365-a160-46f4-aefa-ed49a48e6773",
   "metadata": {
    "execution": {
     "iopub.execute_input": "2023-11-07T05:59:12.669806Z",
     "iopub.status.busy": "2023-11-07T05:59:12.669682Z",
     "iopub.status.idle": "2023-11-07T05:59:12.675289Z",
     "shell.execute_reply": "2023-11-07T05:59:12.674774Z",
     "shell.execute_reply.started": "2023-11-07T05:59:12.669796Z"
    }
   },
   "outputs": [
    {
     "data": {
      "text/plain": [
       "array([[ 4,  4,  4,  4],\n",
       "       [ 8,  8,  8,  8],\n",
       "       [12, 12, 12, 12],\n",
       "       [16, 16, 16, 16]])"
      ]
     },
     "execution_count": 3,
     "metadata": {},
     "output_type": "execute_result"
    }
   ],
   "source": [
    "c_np = a + b\n",
    "c_np"
   ]
  },
  {
   "cell_type": "code",
   "execution_count": 4,
   "id": "17dcf050-159c-41f3-a2e5-22fce07d622c",
   "metadata": {
    "execution": {
     "iopub.execute_input": "2023-11-07T05:59:12.676060Z",
     "iopub.status.busy": "2023-11-07T05:59:12.675836Z",
     "iopub.status.idle": "2023-11-07T05:59:12.720969Z",
     "shell.execute_reply": "2023-11-07T05:59:12.720366Z",
     "shell.execute_reply.started": "2023-11-07T05:59:12.676049Z"
    }
   },
   "outputs": [],
   "source": [
    "@tvm.script.ir_module\n",
    "class MyAdd:\n",
    "    @T.prim_func\n",
    "    def add(\n",
    "        A: T.Buffer((4, 4), \"int64\"),\n",
    "        B: T.Buffer(4, \"int64\"),\n",
    "        C: T.Buffer((4, 4), \"int64\"),\n",
    "    ):\n",
    "        T.func_attr({\"global_symbol\": \"add\", \"tir.noalias\": True})\n",
    "        for i, j in T.grid(4, 4):\n",
    "            with T.block(\"C\"):\n",
    "                vi = T.axis.spatial(4, i)\n",
    "                vj = T.axis.spatial(4, j)\n",
    "                with T.init():\n",
    "                    C[vi, vj] = T.int64(0)\n",
    "                C[vi, vj] = A[vi, vj] + B[vj]"
   ]
  },
  {
   "cell_type": "code",
   "execution_count": 5,
   "id": "f8040965-6e5d-4eed-a7a2-302d74c064cc",
   "metadata": {
    "execution": {
     "iopub.execute_input": "2023-11-07T05:59:12.722057Z",
     "iopub.status.busy": "2023-11-07T05:59:12.721729Z",
     "iopub.status.idle": "2023-11-07T05:59:12.740881Z",
     "shell.execute_reply": "2023-11-07T05:59:12.740348Z",
     "shell.execute_reply.started": "2023-11-07T05:59:12.722045Z"
    }
   },
   "outputs": [],
   "source": [
    "rt_lib = tvm.build(MyAdd, target=\"llvm\")"
   ]
  },
  {
   "cell_type": "code",
   "execution_count": 6,
   "id": "36a7c24e-0474-457c-b2c2-a9e1780e1c1b",
   "metadata": {
    "execution": {
     "iopub.execute_input": "2023-11-07T05:59:12.741608Z",
     "iopub.status.busy": "2023-11-07T05:59:12.741476Z",
     "iopub.status.idle": "2023-11-07T05:59:12.744752Z",
     "shell.execute_reply": "2023-11-07T05:59:12.744251Z",
     "shell.execute_reply.started": "2023-11-07T05:59:12.741598Z"
    }
   },
   "outputs": [],
   "source": [
    "a_tvm = tvm.nd.array(a)\n",
    "b_tvm = tvm.nd.array(b)\n",
    "c_tvm = tvm.nd.array(np.empty((4, 4), dtype=np.int64))"
   ]
  },
  {
   "cell_type": "code",
   "execution_count": 7,
   "id": "7bd8a421-611f-4972-971c-be42afe147a9",
   "metadata": {
    "execution": {
     "iopub.execute_input": "2023-11-07T05:59:12.746156Z",
     "iopub.status.busy": "2023-11-07T05:59:12.745920Z",
     "iopub.status.idle": "2023-11-07T05:59:12.759941Z",
     "shell.execute_reply": "2023-11-07T05:59:12.759461Z",
     "shell.execute_reply.started": "2023-11-07T05:59:12.746146Z"
    }
   },
   "outputs": [
    {
     "data": {
      "text/plain": [
       "<tvm.nd.NDArray shape=(4, 4), cpu(0)>\n",
       "array([[ 4,  4,  4,  4],\n",
       "       [ 8,  8,  8,  8],\n",
       "       [12, 12, 12, 12],\n",
       "       [16, 16, 16, 16]])"
      ]
     },
     "execution_count": 7,
     "metadata": {},
     "output_type": "execute_result"
    }
   ],
   "source": [
    "rt_lib[\"add\"](a_tvm, b_tvm, c_tvm)\n",
    "c_tvm"
   ]
  },
  {
   "cell_type": "code",
   "execution_count": 8,
   "id": "024be67f-ed19-45d8-b154-acfb4752096a",
   "metadata": {
    "execution": {
     "iopub.execute_input": "2023-11-07T05:59:12.760858Z",
     "iopub.status.busy": "2023-11-07T05:59:12.760605Z",
     "iopub.status.idle": "2023-11-07T05:59:12.768408Z",
     "shell.execute_reply": "2023-11-07T05:59:12.767823Z",
     "shell.execute_reply.started": "2023-11-07T05:59:12.760846Z"
    }
   },
   "outputs": [],
   "source": [
    "np.testing.assert_allclose(c_tvm.numpy(), c_np, rtol=1e-5)"
   ]
  },
  {
   "cell_type": "markdown",
   "id": "5b1e19ba-3164-41fb-b233-e6a6fe7957cc",
   "metadata": {},
   "source": [
    "### exercise 2: 2D convolution\n",
    "\n",
    "$$ \\operatorname{conv}_2[b,k,i,j] = \\sum_{d_i, d_j, q} A[b,q,\\operatorname{stride}\\cdot i+d_i,\\operatorname{stride}\\cdot j+d_j]\\cdot W[k,q,d_i, d_j]\n",
    "$$\n",
    "\n",
    "where\n",
    "* $b$ is the batch index\n",
    "* $k$ output channel index\n",
    "* $i, j$ pixel location\n",
    "* $d_i, d_j$ indices of weight kernel\n",
    "* $q$ input channel index\n",
    "* $\\operatorname{stride}$ is the stride of kernel"
   ]
  },
  {
   "cell_type": "code",
   "execution_count": 9,
   "id": "0d961a58-734d-4929-bc0b-1f021ae40b72",
   "metadata": {
    "execution": {
     "iopub.execute_input": "2023-11-07T05:59:12.769157Z",
     "iopub.status.busy": "2023-11-07T05:59:12.769013Z",
     "iopub.status.idle": "2023-11-07T05:59:12.772220Z",
     "shell.execute_reply": "2023-11-07T05:59:12.771694Z",
     "shell.execute_reply.started": "2023-11-07T05:59:12.769146Z"
    }
   },
   "outputs": [],
   "source": [
    "N, CI, H, W, CO, K = 1, 1, 8, 8, 2, 3\n",
    "OUT_H, OUT_W = H - K + 1, W - K + 1\n",
    "data = np.arange(N*CI*H*W).reshape(N, CI, H, W)\n",
    "weight = np.arange(CO*CI*K*K).reshape(CO, CI, K, K)"
   ]
  },
  {
   "cell_type": "code",
   "execution_count": 10,
   "id": "983d7a95-ee99-4a5b-b479-c2636cfd0e00",
   "metadata": {
    "execution": {
     "iopub.execute_input": "2023-11-07T05:59:12.773165Z",
     "iopub.status.busy": "2023-11-07T05:59:12.772916Z",
     "iopub.status.idle": "2023-11-07T05:59:13.576236Z",
     "shell.execute_reply": "2023-11-07T05:59:13.575639Z",
     "shell.execute_reply.started": "2023-11-07T05:59:12.773154Z"
    }
   },
   "outputs": [
    {
     "data": {
      "text/plain": [
       "array([[[[ 474,  510,  546,  582,  618,  654],\n",
       "         [ 762,  798,  834,  870,  906,  942],\n",
       "         [1050, 1086, 1122, 1158, 1194, 1230],\n",
       "         [1338, 1374, 1410, 1446, 1482, 1518],\n",
       "         [1626, 1662, 1698, 1734, 1770, 1806],\n",
       "         [1914, 1950, 1986, 2022, 2058, 2094]],\n",
       "\n",
       "        [[1203, 1320, 1437, 1554, 1671, 1788],\n",
       "         [2139, 2256, 2373, 2490, 2607, 2724],\n",
       "         [3075, 3192, 3309, 3426, 3543, 3660],\n",
       "         [4011, 4128, 4245, 4362, 4479, 4596],\n",
       "         [4947, 5064, 5181, 5298, 5415, 5532],\n",
       "         [5883, 6000, 6117, 6234, 6351, 6468]]]])"
      ]
     },
     "execution_count": 10,
     "metadata": {},
     "output_type": "execute_result"
    }
   ],
   "source": [
    "# torch version\n",
    "import torch\n",
    "\n",
    "data_torch = torch.Tensor(data)\n",
    "weight_torch = torch.Tensor(weight)\n",
    "conv_torch = torch.nn.functional.conv2d(data_torch, weight_torch)\n",
    "conv_torch = conv_torch.numpy().astype(np.int64)\n",
    "conv_torch"
   ]
  },
  {
   "cell_type": "code",
   "execution_count": 11,
   "id": "61726443-9be9-434e-ab0b-f7f8587d9ef8",
   "metadata": {
    "execution": {
     "iopub.execute_input": "2023-11-07T05:59:13.577779Z",
     "iopub.status.busy": "2023-11-07T05:59:13.577047Z",
     "iopub.status.idle": "2023-11-07T05:59:13.598401Z",
     "shell.execute_reply": "2023-11-07T05:59:13.597733Z",
     "shell.execute_reply.started": "2023-11-07T05:59:13.577763Z"
    }
   },
   "outputs": [],
   "source": [
    "@tvm.script.ir_module\n",
    "class MyConv:\n",
    "    @T.prim_func\n",
    "    def conv(\n",
    "        A: T.Buffer((N, CI, H, W), \"int64\"),\n",
    "        D: T.Buffer((CO, CI, K, K), \"int64\"),\n",
    "        C: T.Buffer((N, CO, OUT_H, OUT_W), \"int64\"),\n",
    "    ):\n",
    "        T.func_attr({\"global_symbol\": \"conv\", \"tir.noalias\": True})\n",
    "        for b, k, i, j in T.grid(N, CO, H, W):\n",
    "            with T.block(\"outer\"):\n",
    "                vb, vk, vi, vj = T.axis.remap(\"SSSS\", [b, k, i, j])\n",
    "                with T.init():\n",
    "                    C[vb, vk, vi, vj] = T.int64(0)\n",
    "                for d_i, d_j, q in T.grid(K, K, CI):\n",
    "                    with T.block(\"inner\"):\n",
    "                        vd_i, vd_j, vq = T.axis.remap(\"RRR\", [d_i, d_j, q])\n",
    "                        C[vb, vk, vi, vj] = C[vb, vk, vi, vj] + A[vb, vq, vi + vd_i, vj + vd_j] * D[vk, vq, vd_i, vd_j]    "
   ]
  },
  {
   "cell_type": "code",
   "execution_count": 12,
   "id": "e2a3f9bd-edb4-46d1-8657-53fa17b8c730",
   "metadata": {
    "execution": {
     "iopub.execute_input": "2023-11-07T05:59:13.599441Z",
     "iopub.status.busy": "2023-11-07T05:59:13.599146Z",
     "iopub.status.idle": "2023-11-07T05:59:13.659448Z",
     "shell.execute_reply": "2023-11-07T05:59:13.658826Z",
     "shell.execute_reply.started": "2023-11-07T05:59:13.599429Z"
    }
   },
   "outputs": [],
   "source": [
    "rt_lib = tvm.build(MyConv, target=\"llvm\")\n",
    "data_tvm = tvm.nd.array(data)\n",
    "weight_tvm = tvm.nd.array(weight)\n",
    "conv_tvm = tvm.nd.array(np.empty((N, CO, OUT_H, OUT_W), dtype=np.int64))\n",
    "rt_lib[\"conv\"](data_tvm, weight_tvm, conv_tvm)"
   ]
  },
  {
   "cell_type": "code",
   "execution_count": 13,
   "id": "1ab32808-df70-4ce7-9a84-6e441823d3e6",
   "metadata": {
    "execution": {
     "iopub.execute_input": "2023-11-07T05:59:13.660250Z",
     "iopub.status.busy": "2023-11-07T05:59:13.660113Z",
     "iopub.status.idle": "2023-11-07T05:59:13.664571Z",
     "shell.execute_reply": "2023-11-07T05:59:13.664006Z",
     "shell.execute_reply.started": "2023-11-07T05:59:13.660239Z"
    }
   },
   "outputs": [
    {
     "data": {
      "text/plain": [
       "<tvm.nd.NDArray shape=(1, 2, 6, 6), cpu(0)>\n",
       "array([[[[ 474,  510,  546,  582,  618,  654],\n",
       "         [ 762,  798,  834,  870,  906,  942],\n",
       "         [1050, 1086, 1122, 1158, 1194, 1230],\n",
       "         [1338, 1374, 1410, 1446, 1482, 1518],\n",
       "         [1626, 1662, 1698, 1734, 1770, 1806],\n",
       "         [1914, 1950, 1986, 2022, 2058, 2094]],\n",
       "\n",
       "        [[1203, 1320, 1437, 1554, 1671, 1788],\n",
       "         [2139, 2256, 2373, 2490, 2607, 2724],\n",
       "         [3075, 3192, 3309, 3426, 3543, 3660],\n",
       "         [4011, 4128, 4245, 4362, 4479, 4596],\n",
       "         [4947, 5064, 5181, 5298, 5415, 5532],\n",
       "         [5883, 6000, 6117, 6234, 6351, 6468]]]])"
      ]
     },
     "execution_count": 13,
     "metadata": {},
     "output_type": "execute_result"
    }
   ],
   "source": [
    "conv_tvm"
   ]
  },
  {
   "cell_type": "code",
   "execution_count": 14,
   "id": "73ac0e6c-45ab-4e2f-a35b-a8bd914a93ff",
   "metadata": {
    "execution": {
     "iopub.execute_input": "2023-11-07T05:59:13.665569Z",
     "iopub.status.busy": "2023-11-07T05:59:13.665249Z",
     "iopub.status.idle": "2023-11-07T05:59:13.669587Z",
     "shell.execute_reply": "2023-11-07T05:59:13.668851Z",
     "shell.execute_reply.started": "2023-11-07T05:59:13.665552Z"
    }
   },
   "outputs": [],
   "source": [
    "np.testing.assert_allclose(conv_tvm.numpy(), conv_torch, rtol=1e-5)"
   ]
  },
  {
   "cell_type": "markdown",
   "id": "82e87790-77c8-4aae-81d6-b48ddf959b92",
   "metadata": {},
   "source": [
    "## section 2: how to transform `TensorIR`"
   ]
  },
  {
   "cell_type": "markdown",
   "id": "dae5e79d-34fb-40b7-ab17-16b819f515dc",
   "metadata": {},
   "source": [
    "### exercise 3: transform a batch matmul"
   ]
  },
  {
   "cell_type": "code",
   "execution_count": 15,
   "id": "3cd88d2d-d112-4edf-95c7-d45e00ba977f",
   "metadata": {
    "execution": {
     "iopub.execute_input": "2023-11-07T06:33:25.633709Z",
     "iopub.status.busy": "2023-11-07T06:33:25.632645Z",
     "iopub.status.idle": "2023-11-07T06:33:25.640013Z",
     "shell.execute_reply": "2023-11-07T06:33:25.639324Z",
     "shell.execute_reply.started": "2023-11-07T06:33:25.633679Z"
    }
   },
   "outputs": [],
   "source": [
    "def lnumpy_mm_relu_v2(A: np.ndarray, B: np.ndarray, C: np.ndarray):\n",
    "    Y = np.empty((16, 128, 128), dtype=\"float32\")\n",
    "    for n in range(16):\n",
    "        for i in range(128):\n",
    "            for j in range(128):\n",
    "                for k in range(128):\n",
    "                    if k == 0:\n",
    "                        Y[n, i, j] = 0\n",
    "                    Y[n, i, j] = Y[n, i, j] + A[n, i, k] * B[n, k, j]\n",
    "    for n in range(16):\n",
    "        for i in range(128):\n",
    "            for j in range(128):\n",
    "                C[n, i, j] = max(Y[n, i, j], 0)"
   ]
  },
  {
   "cell_type": "code",
   "execution_count": null,
   "id": "912f618e-7f25-4106-adc7-a6c04fe46543",
   "metadata": {},
   "outputs": [],
   "source": [
    "@tvm.script.ir_module\n",
    "class MyBmmRelu:\n",
    "    @T.prim_func\n",
    "    def bmm_relu(\n",
    "        A: T.Buffer((16, 128, 128), \"float32\"),\n",
    "        B: T.Buffer((16, 128, 128), \"float32\"),\n",
    "        C: T.Buffer((16, 128, 128), \"float32\"),\n",
    "    ):\n",
    "        T.func_attr({\"global_symbol\": \"bmm_relu\", \"tir.noalias\": True})\n",
    "        Y = T.alloc_buffer((16, 128, 128), dtype=\"float32\")\n",
    "        pass"
   ]
  }
 ],
 "metadata": {
  "kernelspec": {
   "display_name": "Python [conda env:mlc]",
   "language": "python",
   "name": "conda-env-mlc-py"
  },
  "language_info": {
   "codemirror_mode": {
    "name": "ipython",
    "version": 3
   },
   "file_extension": ".py",
   "mimetype": "text/x-python",
   "name": "python",
   "nbconvert_exporter": "python",
   "pygments_lexer": "ipython3",
   "version": "3.10.13"
  }
 },
 "nbformat": 4,
 "nbformat_minor": 5
}
