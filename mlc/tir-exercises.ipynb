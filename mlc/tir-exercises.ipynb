{
 "cells": [
  {
   "cell_type": "code",
   "execution_count": 1,
   "id": "679ff43e-7168-4628-a8ac-b6731471475e",
   "metadata": {
    "execution": {
     "iopub.execute_input": "2023-11-08T02:14:04.087023Z",
     "iopub.status.busy": "2023-11-08T02:14:04.086898Z",
     "iopub.status.idle": "2023-11-08T02:14:04.458409Z",
     "shell.execute_reply": "2023-11-08T02:14:04.457836Z",
     "shell.execute_reply.started": "2023-11-08T02:14:04.087008Z"
    }
   },
   "outputs": [],
   "source": [
    "import IPython\n",
    "import numpy as np\n",
    "import tvm\n",
    "from tvm.ir.module import IRModule\n",
    "from tvm.script import tir as T"
   ]
  },
  {
   "cell_type": "markdown",
   "id": "166493d2-f4b5-4d61-8e02-f8defe2fda0a",
   "metadata": {},
   "source": [
    "## section 1: how to write `TensorIR`"
   ]
  },
  {
   "cell_type": "markdown",
   "id": "f7cefd14-bcf3-4a60-bcb9-377f6c28a859",
   "metadata": {},
   "source": [
    "### exercise 1: broadcast add"
   ]
  },
  {
   "cell_type": "code",
   "execution_count": 2,
   "id": "525550c1-9729-4720-a71d-0c16fb1575af",
   "metadata": {
    "execution": {
     "iopub.execute_input": "2023-11-08T02:14:04.460229Z",
     "iopub.status.busy": "2023-11-08T02:14:04.459804Z",
     "iopub.status.idle": "2023-11-08T02:14:04.463040Z",
     "shell.execute_reply": "2023-11-08T02:14:04.462417Z",
     "shell.execute_reply.started": "2023-11-08T02:14:04.460217Z"
    }
   },
   "outputs": [],
   "source": [
    "a = np.arange(16).reshape(4, 4)\n",
    "b = np.arange(4, 0, -1).reshape(4)"
   ]
  },
  {
   "cell_type": "code",
   "execution_count": 3,
   "id": "df9b2365-a160-46f4-aefa-ed49a48e6773",
   "metadata": {
    "execution": {
     "iopub.execute_input": "2023-11-08T02:14:04.464078Z",
     "iopub.status.busy": "2023-11-08T02:14:04.463726Z",
     "iopub.status.idle": "2023-11-08T02:14:04.489625Z",
     "shell.execute_reply": "2023-11-08T02:14:04.489091Z",
     "shell.execute_reply.started": "2023-11-08T02:14:04.464063Z"
    }
   },
   "outputs": [
    {
     "data": {
      "text/plain": [
       "array([[ 4,  4,  4,  4],\n",
       "       [ 8,  8,  8,  8],\n",
       "       [12, 12, 12, 12],\n",
       "       [16, 16, 16, 16]])"
      ]
     },
     "execution_count": 3,
     "metadata": {},
     "output_type": "execute_result"
    }
   ],
   "source": [
    "c_np = a + b\n",
    "c_np"
   ]
  },
  {
   "cell_type": "code",
   "execution_count": 4,
   "id": "17dcf050-159c-41f3-a2e5-22fce07d622c",
   "metadata": {
    "execution": {
     "iopub.execute_input": "2023-11-08T02:14:04.490571Z",
     "iopub.status.busy": "2023-11-08T02:14:04.490297Z",
     "iopub.status.idle": "2023-11-08T02:14:04.541063Z",
     "shell.execute_reply": "2023-11-08T02:14:04.540500Z",
     "shell.execute_reply.started": "2023-11-08T02:14:04.490559Z"
    }
   },
   "outputs": [],
   "source": [
    "@tvm.script.ir_module\n",
    "class MyAdd:\n",
    "    @T.prim_func\n",
    "    def add(\n",
    "        A: T.Buffer((4, 4), \"int64\"),\n",
    "        B: T.Buffer(4, \"int64\"),\n",
    "        C: T.Buffer((4, 4), \"int64\"),\n",
    "    ):\n",
    "        T.func_attr({\"global_symbol\": \"add\", \"tir.noalias\": True})\n",
    "        for i, j in T.grid(4, 4):\n",
    "            with T.block(\"C\"):\n",
    "                vi = T.axis.spatial(4, i)\n",
    "                vj = T.axis.spatial(4, j)\n",
    "                with T.init():\n",
    "                    C[vi, vj] = T.int64(0)\n",
    "                C[vi, vj] = A[vi, vj] + B[vj]"
   ]
  },
  {
   "cell_type": "code",
   "execution_count": 5,
   "id": "f8040965-6e5d-4eed-a7a2-302d74c064cc",
   "metadata": {
    "execution": {
     "iopub.execute_input": "2023-11-08T02:14:04.542121Z",
     "iopub.status.busy": "2023-11-08T02:14:04.541960Z",
     "iopub.status.idle": "2023-11-08T02:14:04.563346Z",
     "shell.execute_reply": "2023-11-08T02:14:04.562778Z",
     "shell.execute_reply.started": "2023-11-08T02:14:04.542109Z"
    }
   },
   "outputs": [],
   "source": [
    "rt_lib = tvm.build(MyAdd, target=\"llvm\")"
   ]
  },
  {
   "cell_type": "code",
   "execution_count": 6,
   "id": "36a7c24e-0474-457c-b2c2-a9e1780e1c1b",
   "metadata": {
    "execution": {
     "iopub.execute_input": "2023-11-08T02:14:04.564157Z",
     "iopub.status.busy": "2023-11-08T02:14:04.564011Z",
     "iopub.status.idle": "2023-11-08T02:14:04.567364Z",
     "shell.execute_reply": "2023-11-08T02:14:04.566890Z",
     "shell.execute_reply.started": "2023-11-08T02:14:04.564146Z"
    }
   },
   "outputs": [],
   "source": [
    "a_tvm = tvm.nd.array(a)\n",
    "b_tvm = tvm.nd.array(b)\n",
    "c_tvm = tvm.nd.array(np.empty((4, 4), dtype=np.int64))"
   ]
  },
  {
   "cell_type": "code",
   "execution_count": 7,
   "id": "7bd8a421-611f-4972-971c-be42afe147a9",
   "metadata": {
    "execution": {
     "iopub.execute_input": "2023-11-08T02:14:04.568913Z",
     "iopub.status.busy": "2023-11-08T02:14:04.568768Z",
     "iopub.status.idle": "2023-11-08T02:14:04.593448Z",
     "shell.execute_reply": "2023-11-08T02:14:04.592819Z",
     "shell.execute_reply.started": "2023-11-08T02:14:04.568903Z"
    }
   },
   "outputs": [
    {
     "data": {
      "text/plain": [
       "<tvm.nd.NDArray shape=(4, 4), cpu(0)>\n",
       "array([[ 4,  4,  4,  4],\n",
       "       [ 8,  8,  8,  8],\n",
       "       [12, 12, 12, 12],\n",
       "       [16, 16, 16, 16]])"
      ]
     },
     "execution_count": 7,
     "metadata": {},
     "output_type": "execute_result"
    }
   ],
   "source": [
    "rt_lib[\"add\"](a_tvm, b_tvm, c_tvm)\n",
    "c_tvm"
   ]
  },
  {
   "cell_type": "code",
   "execution_count": 8,
   "id": "024be67f-ed19-45d8-b154-acfb4752096a",
   "metadata": {
    "execution": {
     "iopub.execute_input": "2023-11-08T02:14:04.594482Z",
     "iopub.status.busy": "2023-11-08T02:14:04.594334Z",
     "iopub.status.idle": "2023-11-08T02:14:04.602477Z",
     "shell.execute_reply": "2023-11-08T02:14:04.601939Z",
     "shell.execute_reply.started": "2023-11-08T02:14:04.594471Z"
    }
   },
   "outputs": [],
   "source": [
    "np.testing.assert_allclose(c_tvm.numpy(), c_np, rtol=1e-5)"
   ]
  },
  {
   "cell_type": "markdown",
   "id": "5b1e19ba-3164-41fb-b233-e6a6fe7957cc",
   "metadata": {},
   "source": [
    "### exercise 2: 2D convolution\n",
    "\n",
    "$$ \\operatorname{conv}_2[b,k,i,j] = \\sum_{d_i, d_j, q} A[b,q,\\operatorname{stride}\\cdot i+d_i,\\operatorname{stride}\\cdot j+d_j]\\cdot W[k,q,d_i, d_j]\n",
    "$$\n",
    "\n",
    "where\n",
    "* $b$ is the batch index\n",
    "* $k$ output channel index\n",
    "* $i, j$ pixel location\n",
    "* $d_i, d_j$ indices of weight kernel\n",
    "* $q$ input channel index\n",
    "* $\\operatorname{stride}$ is the stride of kernel"
   ]
  },
  {
   "cell_type": "code",
   "execution_count": 9,
   "id": "0d961a58-734d-4929-bc0b-1f021ae40b72",
   "metadata": {
    "execution": {
     "iopub.execute_input": "2023-11-08T02:14:04.603504Z",
     "iopub.status.busy": "2023-11-08T02:14:04.603092Z",
     "iopub.status.idle": "2023-11-08T02:14:04.607197Z",
     "shell.execute_reply": "2023-11-08T02:14:04.606709Z",
     "shell.execute_reply.started": "2023-11-08T02:14:04.603492Z"
    }
   },
   "outputs": [],
   "source": [
    "N, CI, H, W, CO, K = 1, 1, 8, 8, 2, 3\n",
    "OUT_H, OUT_W = H - K + 1, W - K + 1\n",
    "data = np.arange(N*CI*H*W).reshape(N, CI, H, W)\n",
    "weight = np.arange(CO*CI*K*K).reshape(CO, CI, K, K)"
   ]
  },
  {
   "cell_type": "code",
   "execution_count": 10,
   "id": "983d7a95-ee99-4a5b-b479-c2636cfd0e00",
   "metadata": {
    "execution": {
     "iopub.execute_input": "2023-11-08T02:14:04.607946Z",
     "iopub.status.busy": "2023-11-08T02:14:04.607710Z",
     "iopub.status.idle": "2023-11-08T02:14:05.393960Z",
     "shell.execute_reply": "2023-11-08T02:14:05.392858Z",
     "shell.execute_reply.started": "2023-11-08T02:14:04.607936Z"
    }
   },
   "outputs": [
    {
     "data": {
      "text/plain": [
       "array([[[[ 474,  510,  546,  582,  618,  654],\n",
       "         [ 762,  798,  834,  870,  906,  942],\n",
       "         [1050, 1086, 1122, 1158, 1194, 1230],\n",
       "         [1338, 1374, 1410, 1446, 1482, 1518],\n",
       "         [1626, 1662, 1698, 1734, 1770, 1806],\n",
       "         [1914, 1950, 1986, 2022, 2058, 2094]],\n",
       "\n",
       "        [[1203, 1320, 1437, 1554, 1671, 1788],\n",
       "         [2139, 2256, 2373, 2490, 2607, 2724],\n",
       "         [3075, 3192, 3309, 3426, 3543, 3660],\n",
       "         [4011, 4128, 4245, 4362, 4479, 4596],\n",
       "         [4947, 5064, 5181, 5298, 5415, 5532],\n",
       "         [5883, 6000, 6117, 6234, 6351, 6468]]]])"
      ]
     },
     "execution_count": 10,
     "metadata": {},
     "output_type": "execute_result"
    }
   ],
   "source": [
    "# torch version\n",
    "import torch\n",
    "\n",
    "data_torch = torch.Tensor(data)\n",
    "weight_torch = torch.Tensor(weight)\n",
    "conv_torch = torch.nn.functional.conv2d(data_torch, weight_torch)\n",
    "conv_torch = conv_torch.numpy().astype(np.int64)\n",
    "conv_torch"
   ]
  },
  {
   "cell_type": "code",
   "execution_count": 11,
   "id": "61726443-9be9-434e-ab0b-f7f8587d9ef8",
   "metadata": {
    "execution": {
     "iopub.execute_input": "2023-11-08T02:14:05.394861Z",
     "iopub.status.busy": "2023-11-08T02:14:05.394611Z",
     "iopub.status.idle": "2023-11-08T02:14:05.427719Z",
     "shell.execute_reply": "2023-11-08T02:14:05.426544Z",
     "shell.execute_reply.started": "2023-11-08T02:14:05.394846Z"
    }
   },
   "outputs": [],
   "source": [
    "@tvm.script.ir_module\n",
    "class MyConv:\n",
    "    @T.prim_func\n",
    "    def conv(\n",
    "        A: T.Buffer((N, CI, H, W), \"int64\"),\n",
    "        D: T.Buffer((CO, CI, K, K), \"int64\"),\n",
    "        C: T.Buffer((N, CO, OUT_H, OUT_W), \"int64\"),\n",
    "    ):\n",
    "        T.func_attr({\"global_symbol\": \"conv\", \"tir.noalias\": True})\n",
    "        for b, k, i, j in T.grid(N, CO, H, W):\n",
    "            with T.block(\"outer\"):\n",
    "                vb, vk, vi, vj = T.axis.remap(\"SSSS\", [b, k, i, j])\n",
    "                with T.init():\n",
    "                    C[vb, vk, vi, vj] = T.int64(0)\n",
    "                for d_i, d_j, q in T.grid(K, K, CI):\n",
    "                    with T.block(\"inner\"):\n",
    "                        vd_i, vd_j, vq = T.axis.remap(\"RRR\", [d_i, d_j, q])\n",
    "                        C[vb, vk, vi, vj] = C[vb, vk, vi, vj] + A[vb, vq, vi + vd_i, vj + vd_j] * D[vk, vq, vd_i, vd_j]    "
   ]
  },
  {
   "cell_type": "code",
   "execution_count": 12,
   "id": "e2a3f9bd-edb4-46d1-8657-53fa17b8c730",
   "metadata": {
    "execution": {
     "iopub.execute_input": "2023-11-08T02:14:05.429805Z",
     "iopub.status.busy": "2023-11-08T02:14:05.428896Z",
     "iopub.status.idle": "2023-11-08T02:14:05.491219Z",
     "shell.execute_reply": "2023-11-08T02:14:05.490536Z",
     "shell.execute_reply.started": "2023-11-08T02:14:05.429783Z"
    }
   },
   "outputs": [],
   "source": [
    "rt_lib = tvm.build(MyConv, target=\"llvm\")\n",
    "data_tvm = tvm.nd.array(data)\n",
    "weight_tvm = tvm.nd.array(weight)\n",
    "conv_tvm = tvm.nd.array(np.empty((N, CO, OUT_H, OUT_W), dtype=np.int64))\n",
    "rt_lib[\"conv\"](data_tvm, weight_tvm, conv_tvm)"
   ]
  },
  {
   "cell_type": "code",
   "execution_count": 13,
   "id": "1ab32808-df70-4ce7-9a84-6e441823d3e6",
   "metadata": {
    "execution": {
     "iopub.execute_input": "2023-11-08T02:14:05.492223Z",
     "iopub.status.busy": "2023-11-08T02:14:05.492077Z",
     "iopub.status.idle": "2023-11-08T02:14:05.496180Z",
     "shell.execute_reply": "2023-11-08T02:14:05.495561Z",
     "shell.execute_reply.started": "2023-11-08T02:14:05.492212Z"
    }
   },
   "outputs": [
    {
     "data": {
      "text/plain": [
       "<tvm.nd.NDArray shape=(1, 2, 6, 6), cpu(0)>\n",
       "array([[[[ 474,  510,  546,  582,  618,  654],\n",
       "         [ 762,  798,  834,  870,  906,  942],\n",
       "         [1050, 1086, 1122, 1158, 1194, 1230],\n",
       "         [1338, 1374, 1410, 1446, 1482, 1518],\n",
       "         [1626, 1662, 1698, 1734, 1770, 1806],\n",
       "         [1914, 1950, 1986, 2022, 2058, 2094]],\n",
       "\n",
       "        [[1203, 1320, 1437, 1554, 1671, 1788],\n",
       "         [2139, 2256, 2373, 2490, 2607, 2724],\n",
       "         [3075, 3192, 3309, 3426, 3543, 3660],\n",
       "         [4011, 4128, 4245, 4362, 4479, 4596],\n",
       "         [4947, 5064, 5181, 5298, 5415, 5532],\n",
       "         [5883, 6000, 6117, 6234, 6351, 6468]]]])"
      ]
     },
     "execution_count": 13,
     "metadata": {},
     "output_type": "execute_result"
    }
   ],
   "source": [
    "conv_tvm"
   ]
  },
  {
   "cell_type": "code",
   "execution_count": 14,
   "id": "73ac0e6c-45ab-4e2f-a35b-a8bd914a93ff",
   "metadata": {
    "execution": {
     "iopub.execute_input": "2023-11-08T02:14:05.497004Z",
     "iopub.status.busy": "2023-11-08T02:14:05.496820Z",
     "iopub.status.idle": "2023-11-08T02:14:05.505309Z",
     "shell.execute_reply": "2023-11-08T02:14:05.504554Z",
     "shell.execute_reply.started": "2023-11-08T02:14:05.496991Z"
    }
   },
   "outputs": [],
   "source": [
    "np.testing.assert_allclose(conv_tvm.numpy(), conv_torch, rtol=1e-5)"
   ]
  },
  {
   "cell_type": "markdown",
   "id": "82e87790-77c8-4aae-81d6-b48ddf959b92",
   "metadata": {},
   "source": [
    "## section 2: how to transform `TensorIR`"
   ]
  },
  {
   "cell_type": "markdown",
   "id": "dae5e79d-34fb-40b7-ab17-16b819f515dc",
   "metadata": {},
   "source": [
    "### exercise 3: transform a batch matmul"
   ]
  },
  {
   "cell_type": "code",
   "execution_count": 15,
   "id": "3cd88d2d-d112-4edf-95c7-d45e00ba977f",
   "metadata": {
    "execution": {
     "iopub.execute_input": "2023-11-08T02:14:05.506341Z",
     "iopub.status.busy": "2023-11-08T02:14:05.506160Z",
     "iopub.status.idle": "2023-11-08T02:14:05.516414Z",
     "shell.execute_reply": "2023-11-08T02:14:05.515666Z",
     "shell.execute_reply.started": "2023-11-08T02:14:05.506325Z"
    }
   },
   "outputs": [],
   "source": [
    "def lnumpy_mm_relu_v2(A: np.ndarray, B: np.ndarray, C: np.ndarray):\n",
    "    Y = np.empty((16, 128, 128), dtype=\"float32\")\n",
    "    for n in range(16):\n",
    "        for i in range(128):\n",
    "            for j in range(128):\n",
    "                for k in range(128):\n",
    "                    if k == 0:\n",
    "                        Y[n, i, j] = 0\n",
    "                    Y[n, i, j] = Y[n, i, j] + A[n, i, k] * B[n, k, j]\n",
    "    for n in range(16):\n",
    "        for i in range(128):\n",
    "            for j in range(128):\n",
    "                C[n, i, j] = max(Y[n, i, j], 0)"
   ]
  },
  {
   "cell_type": "code",
   "execution_count": 16,
   "id": "912f618e-7f25-4106-adc7-a6c04fe46543",
   "metadata": {
    "execution": {
     "iopub.execute_input": "2023-11-08T02:14:05.517678Z",
     "iopub.status.busy": "2023-11-08T02:14:05.517224Z",
     "iopub.status.idle": "2023-11-08T02:14:05.554640Z",
     "shell.execute_reply": "2023-11-08T02:14:05.553902Z",
     "shell.execute_reply.started": "2023-11-08T02:14:05.517665Z"
    }
   },
   "outputs": [],
   "source": [
    "@tvm.script.ir_module\n",
    "class MyBmmRelu:\n",
    "    @T.prim_func\n",
    "    def bmm_relu(\n",
    "        A: T.Buffer((16, 128, 128), \"float32\"),\n",
    "        B: T.Buffer((16, 128, 128), \"float32\"),\n",
    "        C: T.Buffer((16, 128, 128), \"float32\"),\n",
    "    ):\n",
    "        T.func_attr({\"global_symbol\": \"bmm_relu\", \"tir.noalias\": True})\n",
    "        Y = T.alloc_buffer((16, 128, 128), dtype=\"float32\")\n",
    "        for n, i, j, k in T.grid(16, 128, 128, 128):\n",
    "            with T.block(\"Y\"):\n",
    "                vn = T.axis.spatial(16, n)\n",
    "                vi = T.axis.spatial(128, i)\n",
    "                vj = T.axis.spatial(128, j)\n",
    "                vk = T.axis.reduce(128, k)\n",
    "                with T.init():\n",
    "                    Y[vn, vi, vj] = T.float32(0)\n",
    "                Y[vn, vi, vj] = Y[vn, vi, vj] + A[vn, vi, vk] * B[vn, vk, vj]\n",
    "        for n, i, j in T.grid(16, 128, 128):\n",
    "            with T.block(\"C\"):\n",
    "                vn = T.axis.spatial(16, n)\n",
    "                vi = T.axis.spatial(128, i)\n",
    "                vj = T.axis.spatial(128, j)\n",
    "                C[vn, vi, vj] = T.max(Y[vn, vi, vj], T.float32(0))"
   ]
  },
  {
   "cell_type": "code",
   "execution_count": 17,
   "id": "c2780612-1b52-4ff6-8394-8774768721e6",
   "metadata": {
    "execution": {
     "iopub.execute_input": "2023-11-08T02:14:05.555496Z",
     "iopub.status.busy": "2023-11-08T02:14:05.555355Z",
     "iopub.status.idle": "2023-11-08T02:14:05.558371Z",
     "shell.execute_reply": "2023-11-08T02:14:05.557827Z",
     "shell.execute_reply.started": "2023-11-08T02:14:05.555485Z"
    }
   },
   "outputs": [],
   "source": [
    "sch = tvm.tir.Schedule(MyBmmRelu)"
   ]
  },
  {
   "cell_type": "code",
   "execution_count": 18,
   "id": "00079fb1-60e5-4643-911f-5088f268b37d",
   "metadata": {
    "execution": {
     "iopub.execute_input": "2023-11-08T02:14:05.559451Z",
     "iopub.status.busy": "2023-11-08T02:14:05.558990Z",
     "iopub.status.idle": "2023-11-08T02:14:05.600557Z",
     "shell.execute_reply": "2023-11-08T02:14:05.599983Z",
     "shell.execute_reply.started": "2023-11-08T02:14:05.559436Z"
    }
   },
   "outputs": [],
   "source": [
    "block_Y = sch.get_block(\"Y\", func_name=\"bmm_relu\")\n",
    "block_C = sch.get_block(\"C\", func_name=\"bmm_relu\")\n",
    "\n",
    "b, i, j, k = sch.get_loops(block_Y)\n",
    "sch.parallel(b)\n",
    "\n",
    "j0, j1 = sch.split(j, [16, 8])\n",
    "k0, k1 = sch.split(k, [32, 4])\n",
    "sch.reorder(j0, k0, k1, j1)\n",
    "sch.reverse_compute_at(block_C, j0)\n",
    "\n",
    "block_Y_init = sch.decompose_reduction(block_Y, k0)\n",
    "\n",
    "n, i, j0, j1_init = sch.get_loops(block_Y_init)\n",
    "sch.vectorize(j1_init)\n",
    "\n",
    "block_Y_update = sch.get_block(\"Y_update\", func_name=\"bmm_relu\")\n",
    "n, i, j0, k0, k1, j1 = sch.get_loops(block_Y_update)\n",
    "sch.unroll(k1)\n",
    "\n",
    "n, i, j0, j1 = sch.get_loops(block_C)\n",
    "sch.vectorize(j1)"
   ]
  },
  {
   "cell_type": "code",
   "execution_count": 19,
   "id": "98a8eeaa-8909-414f-b674-3ef4c201feff",
   "metadata": {
    "execution": {
     "iopub.execute_input": "2023-11-08T02:14:05.601717Z",
     "iopub.status.busy": "2023-11-08T02:14:05.601279Z",
     "iopub.status.idle": "2023-11-08T02:14:05.615009Z",
     "shell.execute_reply": "2023-11-08T02:14:05.614420Z",
     "shell.execute_reply.started": "2023-11-08T02:14:05.601705Z"
    }
   },
   "outputs": [
    {
     "name": "stdout",
     "output_type": "stream",
     "text": [
      "# from tvm.script import ir as I\n",
      "# from tvm.script import tir as T\n",
      "\n",
      "@I.ir_module\n",
      "class Module:\n",
      "    @T.prim_func\n",
      "    def bmm_relu(A: T.Buffer((16, 128, 128), \"float32\"), B: T.Buffer((16, 128, 128), \"float32\"), C: T.Buffer((16, 128, 128), \"float32\")):\n",
      "        T.func_attr({\"tir.noalias\": T.bool(True)})\n",
      "        # with T.block(\"root\"):\n",
      "        Y = T.alloc_buffer((16, 128, 128))\n",
      "        for n in T.parallel(16):\n",
      "            for i, j_0 in T.grid(128, 16):\n",
      "                for j_1_init in T.vectorized(8):\n",
      "                    with T.block(\"Y_init\"):\n",
      "                        vn, vi = T.axis.remap(\"SS\", [n, i])\n",
      "                        vj = T.axis.spatial(128, j_0 * 8 + j_1_init)\n",
      "                        T.reads()\n",
      "                        T.writes(Y[vn, vi, vj])\n",
      "                        Y[vn, vi, vj] = T.float32(0)\n",
      "                for k_0 in range(32):\n",
      "                    for k_1 in T.unroll(4):\n",
      "                        for j_1 in range(8):\n",
      "                            with T.block(\"Y_update\"):\n",
      "                                vn, vi = T.axis.remap(\"SS\", [n, i])\n",
      "                                vj = T.axis.spatial(128, j_0 * 8 + j_1)\n",
      "                                vk = T.axis.reduce(128, k_0 * 4 + k_1)\n",
      "                                T.reads(Y[vn, vi, vj], A[vn, vi, vk], B[vn, vk, vj])\n",
      "                                T.writes(Y[vn, vi, vj])\n",
      "                                Y[vn, vi, vj] = Y[vn, vi, vj] + A[vn, vi, vk] * B[vn, vk, vj]\n",
      "                for ax0 in T.vectorized(8):\n",
      "                    with T.block(\"C\"):\n",
      "                        vn, vi = T.axis.remap(\"SS\", [n, i])\n",
      "                        vj = T.axis.spatial(128, j_0 * 8 + ax0)\n",
      "                        T.reads(Y[vn, vi, vj])\n",
      "                        T.writes(C[vn, vi, vj])\n",
      "                        C[vn, vi, vj] = T.max(Y[vn, vi, vj], T.float32(0))\n"
     ]
    }
   ],
   "source": [
    "print(sch.mod.script())"
   ]
  },
  {
   "cell_type": "code",
   "execution_count": 20,
   "id": "81a63cbe-95e8-4d3a-9671-e8fa48466300",
   "metadata": {
    "execution": {
     "iopub.execute_input": "2023-11-08T02:14:05.616229Z",
     "iopub.status.busy": "2023-11-08T02:14:05.615728Z",
     "iopub.status.idle": "2023-11-08T02:14:05.642544Z",
     "shell.execute_reply": "2023-11-08T02:14:05.641945Z",
     "shell.execute_reply.started": "2023-11-08T02:14:05.616215Z"
    }
   },
   "outputs": [],
   "source": [
    "@tvm.script.ir_module\n",
    "class TargetModule:\n",
    "    @T.prim_func\n",
    "    def bmm_relu(A: T.Buffer((16, 128, 128), \"float32\"), B: T.Buffer((16, 128, 128), \"float32\"), C: T.Buffer((16, 128, 128), \"float32\")) -> None:\n",
    "        T.func_attr({\"global_symbol\": \"bmm_relu\", \"tir.noalias\": True})\n",
    "        Y = T.alloc_buffer([16, 128, 128], dtype=\"float32\")\n",
    "        for i0 in T.parallel(16):\n",
    "            for i1, i2_0 in T.grid(128, 16):\n",
    "                for ax0_init in T.vectorized(8):\n",
    "                    with T.block(\"Y_init\"):\n",
    "                        n, i = T.axis.remap(\"SS\", [i0, i1])\n",
    "                        j = T.axis.spatial(128, i2_0 * 8 + ax0_init)\n",
    "                        Y[n, i, j] = T.float32(0)\n",
    "                for ax1_0 in T.serial(32):\n",
    "                    for ax1_1 in T.unroll(4):\n",
    "                        for ax0 in T.serial(8):\n",
    "                            with T.block(\"Y_update\"):\n",
    "                                n, i = T.axis.remap(\"SS\", [i0, i1])\n",
    "                                j = T.axis.spatial(128, i2_0 * 8 + ax0)\n",
    "                                k = T.axis.reduce(128, ax1_0 * 4 + ax1_1)\n",
    "                                Y[n, i, j] = Y[n, i, j] + A[n, i, k] * B[n, k, j]\n",
    "                for i2_1 in T.vectorized(8):\n",
    "                    with T.block(\"C\"):\n",
    "                        n, i = T.axis.remap(\"SS\", [i0, i1])\n",
    "                        j = T.axis.spatial(128, i2_0 * 8 + i2_1)\n",
    "                        C[n, i, j] = T.max(Y[n, i, j], T.float32(0))"
   ]
  },
  {
   "cell_type": "code",
   "execution_count": 21,
   "id": "11cfca4b-e281-4aa5-8603-50096b1e9488",
   "metadata": {
    "execution": {
     "iopub.execute_input": "2023-11-08T02:14:05.643690Z",
     "iopub.status.busy": "2023-11-08T02:14:05.643302Z",
     "iopub.status.idle": "2023-11-08T02:14:05.649292Z",
     "shell.execute_reply": "2023-11-08T02:14:05.648700Z",
     "shell.execute_reply.started": "2023-11-08T02:14:05.643677Z"
    }
   },
   "outputs": [
    {
     "name": "stdout",
     "output_type": "stream",
     "text": [
      "Pass\n"
     ]
    }
   ],
   "source": [
    "tvm.ir.assert_structural_equal(sch.mod, TargetModule)\n",
    "print(\"Pass\")"
   ]
  },
  {
   "cell_type": "code",
   "execution_count": 22,
   "id": "4fda86e8-ed58-4f94-8504-86dfd8251eb5",
   "metadata": {
    "execution": {
     "iopub.execute_input": "2023-11-08T02:14:05.651309Z",
     "iopub.status.busy": "2023-11-08T02:14:05.650917Z",
     "iopub.status.idle": "2023-11-08T02:14:06.318147Z",
     "shell.execute_reply": "2023-11-08T02:14:06.317426Z",
     "shell.execute_reply.started": "2023-11-08T02:14:05.651294Z"
    }
   },
   "outputs": [
    {
     "name": "stdout",
     "output_type": "stream",
     "text": [
      "Before transformation:\n",
      "Execution time summary:\n",
      " mean (ms)   median (ms)    max (ms)     min (ms)     std (ms)  \n",
      "  35.1041      35.1041      35.1041      35.1041       0.0000                  \n",
      "After transformation:\n",
      "Execution time summary:\n",
      " mean (ms)   median (ms)    max (ms)     min (ms)     std (ms)  \n",
      "   3.2522       3.2522       3.2522       3.2522       0.0000                  \n"
     ]
    }
   ],
   "source": [
    "before_rt_lib = tvm.build(MyBmmRelu, target=\"llvm\")\n",
    "after_rt_lib = tvm.build(sch.mod, target=\"llvm\")\n",
    "a_tvm = tvm.nd.array(np.random.rand(16, 128, 128).astype(\"float32\"))\n",
    "b_tvm = tvm.nd.array(np.random.rand(16, 128, 128).astype(\"float32\"))\n",
    "c_tvm = tvm.nd.array(np.random.rand(16, 128, 128).astype(\"float32\"))\n",
    "after_rt_lib[\"bmm_relu\"](a_tvm, b_tvm, c_tvm)\n",
    "before_timer = before_rt_lib.time_evaluator(\"bmm_relu\", tvm.cpu())\n",
    "print(\"Before transformation:\")\n",
    "print(before_timer(a_tvm, b_tvm, c_tvm))\n",
    "\n",
    "f_timer = after_rt_lib.time_evaluator(\"bmm_relu\", tvm.cpu())\n",
    "print(\"After transformation:\")\n",
    "print(f_timer(a_tvm, b_tvm, c_tvm))"
   ]
  },
  {
   "cell_type": "code",
   "execution_count": null,
   "id": "c8d4ed3a-8ea2-4d2e-90b4-26c17b31bddc",
   "metadata": {},
   "outputs": [],
   "source": []
  }
 ],
 "metadata": {
  "kernelspec": {
   "display_name": "Python [conda env:mlc]",
   "language": "python",
   "name": "conda-env-mlc-py"
  },
  "language_info": {
   "codemirror_mode": {
    "name": "ipython",
    "version": 3
   },
   "file_extension": ".py",
   "mimetype": "text/x-python",
   "name": "python",
   "nbconvert_exporter": "python",
   "pygments_lexer": "ipython3",
   "version": "3.10.13"
  }
 },
 "nbformat": 4,
 "nbformat_minor": 5
}
